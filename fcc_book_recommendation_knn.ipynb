{
  "cells": [
    {
      "cell_type": "code",
      "execution_count": null,
      "metadata": {
        "id": "Y1onB6kUvo4Z"
      },
      "outputs": [],
      "source": [
        "# import libraries (you may add additional imports but you may not have to)\n",
        "import numpy as np\n",
        "import pandas as pd\n",
        "from scipy.sparse import csr_matrix\n",
        "from sklearn.neighbors import NearestNeighbors\n",
        "import matplotlib.pyplot as plt"
      ]
    },
    {
      "cell_type": "code",
      "execution_count": null,
      "metadata": {
        "id": "iAQGqqO_vo4d"
      },
      "outputs": [],
      "source": [
        "# get data files\n",
        "!wget https://cdn.freecodecamp.org/project-data/books/book-crossings.zip\n",
        "\n",
        "import pandas as pd\n",
        "from sklearn.neighbors import NearestNeighbors\n",
        "from scipy.sparse import csr_matrix\n",
        "\n",
        "# Load the dataset\n",
        "books = pd.read_csv('BX-Books.csv', sep=';', encoding='latin-1', on_bad_lines='skip', low_memory=False)\n",
        "ratings = pd.read_csv('BX-Book-Ratings.csv', sep=';', encoding='latin-1', on_bad_lines='skip')\n",
        "users = pd.read_csv('BX-Users.csv', sep=';', encoding='latin-1', on_bad_lines='skip')\n"
      ]
    },
    {
      "cell_type": "code",
      "execution_count": null,
      "metadata": {
        "id": "NClILWOiEd6Q"
      },
      "outputs": [],
      "source": [
        "# import csv data into dataframes\n",
        "# Filter users with less than 200 ratings\n",
        "user_counts = ratings['User-ID'].value_counts()\n",
        "ratings = ratings[ratings['User-ID'].isin(user_counts[user_counts >= 200].index)]\n",
        "\n",
        "# Filter books with less than 100 ratings\n",
        "book_counts = ratings['ISBN'].value_counts()\n",
        "ratings = ratings[ratings['ISBN'].isin(book_counts[book_counts >= 100].index)]\n",
        "\n",
        "# Merge books metadata with ratings\n",
        "books = books[['ISBN', 'Book-Title']]\n",
        "ratings = pd.merge(ratings, books, on='ISBN')\n"
      ]
    },
    {
      "cell_type": "code",
      "execution_count": null,
      "metadata": {
        "id": "xAcXjkCFCh0A"
      },
      "outputs": [],
      "source": [
        "# add your code here - consider creating a new cell for each section of codebook_user_matrix = ratings.pivot_table(index='Book-Title', columns='User-ID', values='Book-Rating').fillna(0)\n",
        "book_user_sparse = csr_matrix(book_user_matrix.values)\n",
        "# Filter users with less than 200 ratings\n",
        "user_counts = ratings['User-ID'].value_counts()\n",
        "ratings = ratings[ratings['User-ID'].isin(user_counts[user_counts >= 200].index)]\n",
        "\n",
        "# Filter books with less than 100 ratings\n",
        "book_counts = ratings['ISBN'].value_counts()\n",
        "ratings = ratings[ratings['ISBN'].isin(book_counts[book_counts >= 100].index)]\n",
        "\n",
        "# Merge books metadata with ratings\n",
        "books = books[['ISBN', 'Book-Title']]\n",
        "ratings = pd.merge(ratings, books, on='ISBN')\n"
      ]
    },
    {
      "cell_type": "code",
      "execution_count": null,
      "metadata": {
        "id": "f5ZUd-L1SQz7"
      },
      "outputs": [],
      "source": [
        "# function to return recommended books - this will be tested\n",
        "model = NearestNeighbors(metric='cosine', algorithm='brute')\n",
        "model.fit(book_user_sparse)\n"
      ]
    },
    {
      "cell_type": "code",
      "execution_count": null,
      "metadata": {
        "id": "jd2SLCh8oxMh"
      },
      "outputs": [],
      "source": [
        "def get_recommends(book_title):\n",
        "    # Find the index of the book in the matrix\n",
        "    book_idx = book_user_matrix.index.get_loc(book_title)\n",
        "\n",
        "    # Query the model for neighbors\n",
        "    distances, indices = model.kneighbors(book_user_matrix.iloc[book_idx, :].values.reshape(1, -1), n_neighbors=6)\n",
        "\n",
        "    # Prepare results\n",
        "    recommendations = []\n",
        "    for i in range(1, len(indices[0])):\n",
        "        recommended_book = book_user_matrix.index[indices[0][i]]\n",
        "        distance = distances[0][i]\n",
        "        recommendations.append([recommended_book, distance])\n",
        "\n",
        "    return [book_title, recommendations]\n",
        "\n",
        "get_recommends(\"The Queen of the Damned (Vampire Chronicles (Paperback))\")\n"
      ]
    }
  ],
  "metadata": {
    "colab": {
      "name": "fcc_book_recommendation_knn.ipynb",
      "provenance": []
    },
    "kernelspec": {
      "display_name": "Python 3",
      "language": "python",
      "name": "python3"
    },
    "language_info": {
      "codemirror_mode": {
        "name": "ipython",
        "version": 3
      },
      "file_extension": ".py",
      "mimetype": "text/x-python",
      "name": "python",
      "nbconvert_exporter": "python",
      "pygments_lexer": "ipython3",
      "version": "3.6.5"
    }
  },
  "nbformat": 4,
  "nbformat_minor": 0
}